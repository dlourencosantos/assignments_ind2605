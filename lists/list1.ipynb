{
 "cells": [
  {
   "cell_type": "markdown",
   "metadata": {},
   "source": [
    "### Lista 1 em Julia - IND2605\n",
    "#### Daniel Lourenço dos Santos - 2512133"
   ]
  },
  {
   "cell_type": "code",
   "execution_count": 3,
   "metadata": {},
   "outputs": [],
   "source": [
    "using JuMP, HiGHS"
   ]
  },
  {
   "cell_type": "markdown",
   "metadata": {},
   "source": [
    "##### 1.(a)"
   ]
  },
  {
   "cell_type": "code",
   "execution_count": 38,
   "metadata": {},
   "outputs": [
    {
     "name": "stdout",
     "output_type": "stream",
     "text": [
      "Max 3 x[1] + x[2]\n",
      "Subject to\n",
      " 2 x[1] + x[2] ≤ 6\n",
      " x[1] + 3 x[2] ≤ 9\n",
      " x[1] ≥ 0\n",
      " x[2] ≥ 0\n",
      "\n",
      "OPTIMAL\n",
      "z = 9.0\n",
      "x[1] = 3.0\n",
      "x[2] = 0.0\n"
     ]
    }
   ],
   "source": [
    "A = [\n",
    "  2 1\n",
    "  1 3\n",
    "]\n",
    "\n",
    "X = [1, 2]\n",
    "\n",
    "b = [6, 9]\n",
    "\n",
    "c = [3,1]\n",
    "\n",
    "model = Model(HiGHS.Optimizer)\n",
    "\n",
    "@variable(model, x[X] >= 0)\n",
    "\n",
    "@objective(model, Max, sum(c[j]*x[j] for j in X))\n",
    "\n",
    "@constraint(model, [i in X], sum(A[i, j]x[j] for j in X) <= b[i])\n",
    "\n",
    "println(model)\n",
    "set_silent(model)\n",
    "optimize!(model)\n",
    "\n",
    "println(termination_status(model))\n",
    "println(\"z = \", objective_value(model))\n",
    "for j in X\n",
    "  println(\"x[$j] = \", value(x[j]))\n",
    "end"
   ]
  },
  {
   "cell_type": "markdown",
   "metadata": {},
   "source": [
    "##### 1.(b)"
   ]
  },
  {
   "cell_type": "code",
   "execution_count": 6,
   "metadata": {},
   "outputs": [
    {
     "data": {
      "text/plain": [
       "2-element Vector{Int64}:\n",
       " 4\n",
       " 5"
      ]
     },
     "metadata": {},
     "output_type": "display_data"
    }
   ],
   "source": [
    "X = [1,2]\n",
    "c = [1, 1]\n",
    "A = [\n",
    "\t1 1\n",
    "\t1 -1\n",
    "]\n",
    "b = [4,5]\n"
   ]
  },
  {
   "cell_type": "code",
   "execution_count": 7,
   "metadata": {},
   "outputs": [
    {
     "name": "stdout",
     "output_type": "stream",
     "text": [
      "Max x[1] + x[2]\n",
      "Subject to\n",
      " x[1] + x[2] ≤ 4\n",
      " x[1] - x[2] ≤ 5\n",
      " x[1] ≥ 0\n",
      " x[2] ≥ 0\n",
      "\n",
      "OPTIMAL\n",
      "z = 4.0\n",
      "x[1] = 4.0\n",
      "x[2] = 0.0\n"
     ]
    }
   ],
   "source": [
    "model = Model(HiGHS.Optimizer)\n",
    "\n",
    "@variable(model, x[1:2] >= 0)\n",
    "\n",
    "@objective(model, Max, sum(c[j]*x[j] for j in X))\n",
    "\n",
    "@constraint(model, [i in X], sum(A[i, j]x[j] for j in X) <= b[i])\n",
    "\n",
    "println(model)\n",
    "set_silent(model)\n",
    "optimize!(model)\n",
    "\n",
    "println(termination_status(model))\n",
    "println(\"z = \", objective_value(model))\n",
    "for j in X\n",
    "  println(\"x[$j] = \", value(x[j]))\n",
    "end"
   ]
  },
  {
   "cell_type": "markdown",
   "metadata": {},
   "source": [
    "##### 1.(C)"
   ]
  },
  {
   "cell_type": "code",
   "execution_count": 8,
   "metadata": {},
   "outputs": [
    {
     "data": {
      "text/plain": [
       "2-element Vector{Int64}:\n",
       " 16\n",
       " 12"
      ]
     },
     "metadata": {},
     "output_type": "display_data"
    }
   ],
   "source": [
    "X = [1,2]\n",
    "c = [ 4,1]\n",
    "A = [\n",
    "\t8 2\n",
    "\t5 2\n",
    "]\n",
    "b = [ 16, 12]"
   ]
  },
  {
   "cell_type": "code",
   "execution_count": 9,
   "metadata": {},
   "outputs": [
    {
     "name": "stdout",
     "output_type": "stream",
     "text": [
      "Max 4 x[1] + x[2]\n",
      "Subject to\n",
      " 8 x[1] + 2 x[2] ≤ 16\n",
      " 5 x[1] + 2 x[2] ≤ 12\n",
      " x[1] ≥ 0\n",
      " x[2] ≥ 0\n",
      "\n",
      "OPTIMAL\n",
      "z = 8.0\n",
      "x[1] = 1.3333333333333333\n",
      "x[2] = 2.666666666666667\n"
     ]
    }
   ],
   "source": [
    "model = Model(HiGHS.Optimizer)\n",
    "\n",
    "@variable(model, x[X] >= 0)\n",
    "\n",
    "@objective(model, Max, sum(c[j]*x[j] for j in X))\n",
    "\n",
    "@constraint(model, [i in X], sum(A[i, j]x[j] for j in X) <= b[i])\n",
    "\n",
    "println(model)\n",
    "set_silent(model)\n",
    "optimize!(model)\n",
    "\n",
    "println(termination_status(model))\n",
    "println(\"z = \", objective_value(model))\n",
    "for j in X\n",
    "  println(\"x[$j] = \", value(x[j]))\n",
    "end"
   ]
  },
  {
   "cell_type": "markdown",
   "metadata": {},
   "source": [
    "##### 1.(d)"
   ]
  },
  {
   "cell_type": "code",
   "execution_count": 11,
   "metadata": {},
   "outputs": [
    {
     "data": {
      "text/plain": [
       "2-element Vector{Int64}:\n",
       " 4\n",
       " 4"
      ]
     },
     "metadata": {},
     "output_type": "display_data"
    }
   ],
   "source": [
    "X = [1,2]\n",
    "c = [-1,3]\n",
    "A = [\n",
    "\t1 -1\n",
    "\t1 2\n",
    "]\n",
    "b = [4,4]"
   ]
  },
  {
   "cell_type": "code",
   "execution_count": 17,
   "metadata": {},
   "outputs": [
    {
     "name": "stdout",
     "output_type": "stream",
     "text": [
      "Max -x[1] + 3 x[2]\n",
      "Subject to\n",
      " x[1] + 2 x[2] ≥ 4\n",
      " x[1] - x[2] ≤ 4\n",
      " x[1] ≥ 0\n",
      " x[2] ≥ 0\n",
      "\n",
      "DUAL_INFEASIBLE\n",
      "z = 1.5\n",
      "x[1] = 0.0\n",
      "x[2] = 0.5\n"
     ]
    }
   ],
   "source": [
    "model = Model(HiGHS.Optimizer)\n",
    "\n",
    "@variable(model, x[X] >= 0)\n",
    "\n",
    "@objective(model, Max, sum(c[j]*x[j] for j in X))\n",
    "\n",
    "@constraint(model, sum(A[1, j]x[j] for j in X) <= b[1])\n",
    "@constraint(model, sum(A[2, j]x[j] for j in X) >= b[2])\n",
    "\n",
    "println(model)\n",
    "set_silent(model)\n",
    "optimize!(model)\n",
    "\n",
    "println(termination_status(model))\n",
    "println(\"z = \", objective_value(model))\n",
    "for j in X\n",
    "  println(\"x[$j] = \", value(x[j]))\n",
    "end"
   ]
  },
  {
   "cell_type": "markdown",
   "metadata": {},
   "source": [
    "#### 1.(e)"
   ]
  },
  {
   "cell_type": "code",
   "execution_count": 19,
   "metadata": {},
   "outputs": [
    {
     "data": {
      "text/plain": [
       "2-element Vector{Int64}:\n",
       " 15\n",
       " 10"
      ]
     },
     "metadata": {},
     "output_type": "display_data"
    }
   ],
   "source": [
    "X = [1,2]\n",
    "c = [3,5]\n",
    "A = [\n",
    "\t3 5\n",
    "\t5 2\n",
    "]\n",
    "b = [ 15,10]"
   ]
  },
  {
   "cell_type": "code",
   "execution_count": 20,
   "metadata": {},
   "outputs": [
    {
     "name": "stdout",
     "output_type": "stream",
     "text": [
      "Max 3 x[1] + 5 x[2]\n",
      "Subject to\n",
      " 5 x[1] + 2 x[2] ≥ 10\n",
      " 3 x[1] + 5 x[2] ≤ 15\n",
      " x[1] ≥ 0\n",
      " x[2] ≥ 0\n",
      "\n",
      "OPTIMAL\n",
      "z = 15.0\n",
      "x[1] = 1.0526315789473684\n",
      "x[2] = 2.368421052631579\n"
     ]
    }
   ],
   "source": [
    "model = Model(HiGHS.Optimizer)\n",
    "\n",
    "@variable(model, x[X] >= 0)\n",
    "\n",
    "@objective(model, Max, sum(c[j]*x[j] for j in X))\n",
    "\n",
    "@constraint(model, sum(A[1, j]x[j] for j in X) <= b[1])\n",
    "@constraint(model, sum(A[2, j]x[j] for j in X) >= b[2])\n",
    "\n",
    "println(model)\n",
    "set_silent(model)\n",
    "optimize!(model)\n",
    "\n",
    "println(termination_status(model))\n",
    "println(\"z = \", objective_value(model))\n",
    "for j in X\n",
    "  println(\"x[$j] = \", value(x[j]))\n",
    "end"
   ]
  },
  {
   "cell_type": "markdown",
   "metadata": {},
   "source": [
    "#### 1.(f)"
   ]
  },
  {
   "cell_type": "code",
   "execution_count": 22,
   "metadata": {},
   "outputs": [
    {
     "data": {
      "text/plain": [
       "2-element Vector{Int64}:\n",
       " 1\n",
       " 4"
      ]
     },
     "metadata": {},
     "output_type": "display_data"
    }
   ],
   "source": [
    "X = [1, 2]\n",
    "c = [3, -2]\n",
    "A = [\n",
    "\t1 1\n",
    "\t2 2\n",
    "]\n",
    "b = [1,4]"
   ]
  },
  {
   "cell_type": "code",
   "execution_count": 23,
   "metadata": {},
   "outputs": [
    {
     "name": "stdout",
     "output_type": "stream",
     "text": [
      "Max 3 x[1] - 2 x[2]\n",
      "Subject to\n",
      " 2 x[1] + 2 x[2] ≥ 4\n",
      " x[1] + x[2] ≤ 1\n",
      " x[1] ≥ 0\n",
      " x[2] ≥ 0\n",
      "\n",
      "INFEASIBLE\n",
      "z = 0.0\n",
      "x[1] = 5.0e-324\n",
      "x[2] = 5.0e-323\n"
     ]
    }
   ],
   "source": [
    "model = Model(HiGHS.Optimizer)\n",
    "\n",
    "@variable(model, x[X] >= 0)\n",
    "\n",
    "@objective(model, Max, sum(c[j]*x[j] for j in X))\n",
    "\n",
    "@constraint(model, sum(A[1, j]x[j] for j in X) <= b[1])\n",
    "@constraint(model, sum(A[2, j]x[j] for j in X) >= b[2])\n",
    "\n",
    "println(model)\n",
    "set_silent(model)\n",
    "optimize!(model)\n",
    "\n",
    "println(termination_status(model))\n",
    "println(\"z = \", objective_value(model))\n",
    "for j in X\n",
    "  println(\"x[$j] = \", value(x[j]))\n",
    "end"
   ]
  },
  {
   "cell_type": "markdown",
   "metadata": {},
   "source": [
    "#### 1.(g)"
   ]
  },
  {
   "cell_type": "code",
   "execution_count": 24,
   "metadata": {},
   "outputs": [
    {
     "data": {
      "text/plain": [
       "2-element Vector{Int64}:\n",
       " 10\n",
       "  9"
      ]
     },
     "metadata": {},
     "output_type": "display_data"
    }
   ],
   "source": [
    "X = [1, 2]\n",
    "c = [1,4]\n",
    "A = [\n",
    "\t2 1\n",
    "\t1 3\n",
    "]\n",
    "\n",
    "b = [ 10,9]"
   ]
  },
  {
   "cell_type": "code",
   "execution_count": 25,
   "metadata": {},
   "outputs": [
    {
     "name": "stdout",
     "output_type": "stream",
     "text": [
      "Max x[1] + 4 x[2]\n",
      "Subject to\n",
      " 2 x[1] + x[2] ≤ 10\n",
      " x[1] + 3 x[2] ≤ 9\n",
      " x[1] ≥ 0\n",
      " x[2] ≥ 0\n",
      "\n",
      "OPTIMAL\n",
      "z = 12.0\n",
      "x[1] = 0.0\n",
      "x[2] = 3.0\n"
     ]
    }
   ],
   "source": [
    "model = Model(HiGHS.Optimizer)\n",
    "\n",
    "@variable(model, x[X] >= 0)\n",
    "\n",
    "@objective(model, Max, sum(c[j]*x[j] for j in X))\n",
    "\n",
    "@constraint(model, [i in X], sum(A[i, j]x[j] for j in X) <= b[i])\n",
    "\n",
    "println(model)\n",
    "set_silent(model)\n",
    "optimize!(model)\n",
    "\n",
    "println(termination_status(model))\n",
    "println(\"z = \", objective_value(model))\n",
    "for j in X\n",
    "  println(\"x[$j] = \", value(x[j]))\n",
    "end"
   ]
  },
  {
   "cell_type": "markdown",
   "metadata": {},
   "source": [
    "#### 1.(h)"
   ]
  },
  {
   "cell_type": "code",
   "execution_count": 28,
   "metadata": {},
   "outputs": [
    {
     "name": "stdout",
     "output_type": "stream",
     "text": [
      "Max 3 x[1] + 2 x[2]\n",
      "Subject to\n",
      " 2 x[1] + 2 x[2] ≤ 6\n",
      " x[1] + 3 x[2] ≤ 8\n",
      " x[1] ≥ 0\n",
      " x[2] ≥ 0\n",
      "\n",
      "OPTIMAL\n",
      "z = 9.0\n",
      "x[1] = 3.0\n",
      "x[2] = 0.0\n"
     ]
    }
   ],
   "source": [
    "X = [1, 2]\n",
    "c = [3,2]\n",
    "A = [\n",
    "\t2 2\n",
    "\t1 3\n",
    "]\n",
    "\n",
    "b = [6,8]\n",
    "\n",
    "model = Model(HiGHS.Optimizer)\n",
    "\n",
    "@variable(model, x[X] >= 0)\n",
    "\n",
    "@objective(model, Max, sum(c[j]*x[j] for j in X))\n",
    "\n",
    "@constraint(model, [i in X], sum(A[i, j]x[j] for j in X) <= b[i])\n",
    "\n",
    "println(model)\n",
    "set_silent(model)\n",
    "optimize!(model)\n",
    "\n",
    "println(termination_status(model))\n",
    "println(\"z = \", objective_value(model))\n",
    "for j in X\n",
    "  println(\"x[$j] = \", value(x[j]))\n",
    "end"
   ]
  },
  {
   "cell_type": "markdown",
   "metadata": {},
   "source": [
    "#### 1.(i)"
   ]
  },
  {
   "cell_type": "code",
   "execution_count": 31,
   "metadata": {},
   "outputs": [
    {
     "name": "stdout",
     "output_type": "stream",
     "text": [
      "Max x[1] + x[2]\n",
      "Subject to\n",
      " -3 x[1] + 2 x[2] ≤ 2\n",
      " x[2] ≤ 3\n",
      " x[1] + 2 x[2] ≤ 9\n",
      " 3 x[1] + x[2] ≤ 18\n",
      " x[1] ≥ 0\n",
      " x[2] ≥ 0\n",
      "\n",
      "OPTIMAL\n",
      "z = 7.2\n",
      "x[1] = 5.4\n",
      "x[2] = 1.7999999999999998\n"
     ]
    }
   ],
   "source": [
    "X = [1, 2]\n",
    "c = [1,1]\n",
    "A = [\n",
    "\t-3 2\n",
    "\t0 1\n",
    "\t1 2\n",
    "\t3 1\n",
    "]\n",
    "\n",
    "b = [2, 3, 9, 18]\n",
    "\n",
    "model = Model(HiGHS.Optimizer)\n",
    "\n",
    "@variable(model, x[X] >= 0)\n",
    "\n",
    "@objective(model, Max, sum(c[j]*x[j] for j in X))\n",
    "\n",
    "@constraint(model, [i in 1:4], sum(A[i, j]x[j] for j in X) <= b[i])\n",
    "\n",
    "println(model)\n",
    "set_silent(model)\n",
    "optimize!(model)\n",
    "\n",
    "println(termination_status(model))\n",
    "println(\"z = \", objective_value(model))\n",
    "for j in X\n",
    "  println(\"x[$j] = \", value(x[j]))\n",
    "end"
   ]
  },
  {
   "cell_type": "markdown",
   "metadata": {},
   "source": [
    "#### 1.(j)"
   ]
  },
  {
   "cell_type": "code",
   "execution_count": 32,
   "metadata": {},
   "outputs": [
    {
     "name": "stdout",
     "output_type": "stream",
     "text": [
      "Max x[1] + 3 x[2]\n",
      "Subject to\n",
      " x[2] ≤ 4\n",
      " x[1] + x[2] ≤ 6\n",
      " x[1] ≤ 3\n",
      " 5 x[1] + x[2] ≤ 18\n",
      " x[1] ≥ 0\n",
      " x[2] ≥ 0\n",
      "\n",
      "OPTIMAL\n",
      "z = 14.0\n",
      "x[1] = 2.0\n",
      "x[2] = 4.0\n"
     ]
    }
   ],
   "source": [
    "X = [1, 2]\n",
    "c = [1,3]\n",
    "A = [\n",
    "\t0 1\n",
    "\t1 1\n",
    "\t1 0\n",
    "\t5 1\t\n",
    "]\n",
    "\n",
    "b = [4, 6, 3, 18]\n",
    "\n",
    "model = Model(HiGHS.Optimizer)\n",
    "\n",
    "@variable(model, x[X] >= 0)\n",
    "\n",
    "@objective(model, Max, sum(c[j]*x[j] for j in X))\n",
    "\n",
    "@constraint(model, [i in 1:4], sum(A[i, j]x[j] for j in X) <= b[i])\n",
    "\n",
    "println(model)\n",
    "set_silent(model)\n",
    "optimize!(model)\n",
    "\n",
    "println(termination_status(model))\n",
    "println(\"z = \", objective_value(model))\n",
    "for j in X\n",
    "  println(\"x[$j] = \", value(x[j]))\n",
    "end"
   ]
  },
  {
   "cell_type": "markdown",
   "metadata": {},
   "source": [
    "#### 1.(k)"
   ]
  },
  {
   "cell_type": "code",
   "execution_count": 36,
   "metadata": {},
   "outputs": [
    {
     "name": "stdout",
     "output_type": "stream",
     "text": [
      "Max 3 x[1] + 2 x[2]\n",
      "Subject to\n",
      " x[1] ≥ 3\n",
      " x[2] ≥ 2\n",
      " x[1] + x[2] ≥ 6\n",
      " x[1] - x[2] ≤ 3\n",
      " 3 x[1] + 5 x[2] ≤ 30\n",
      " x[1] ≥ 0\n",
      " x[2] ≥ 0\n",
      "\n",
      "OPTIMAL\n",
      "z = 22.125\n",
      "x[1] = 5.625\n",
      "x[2] = 2.625\n"
     ]
    }
   ],
   "source": [
    "X = [1, 2]\n",
    "c = [3,2]\n",
    "A = [\n",
    "\t1 0\n",
    "\t0 1\n",
    "\t1 1\n",
    "\t1 -1\n",
    "\t3 5\n",
    "]\n",
    "\n",
    "b = [3, 2, 6, 3, 30]\n",
    "\n",
    "model = Model(HiGHS.Optimizer)\n",
    "\n",
    "@variable(model, x[X] >= 0)\n",
    "\n",
    "@objective(model, Max, sum(c[j]*x[j] for j in X))\n",
    "\n",
    "@constraint(model, [i in 1:3], sum(A[i, j]x[j] for j in X) >= b[i])\n",
    "@constraint(model, [i in 4:5], sum(A[i, j]x[j] for j in X) <= b[i])\n",
    "\n",
    "println(model)\n",
    "set_silent(model)\n",
    "optimize!(model)\n",
    "\n",
    "println(termination_status(model))\n",
    "println(\"z = \", objective_value(model))\n",
    "for j in X\n",
    "  println(\"x[$j] = \", value(x[j]))\n",
    "end"
   ]
  },
  {
   "cell_type": "markdown",
   "metadata": {},
   "source": [
    "#### 1.(l)"
   ]
  },
  {
   "cell_type": "code",
   "execution_count": 37,
   "metadata": {},
   "outputs": [
    {
     "name": "stdout",
     "output_type": "stream",
     "text": [
      "Max 2 x[1] + x[2]\n",
      "Subject to\n",
      " 2 x[1] + 5 x[2] ≥ 60\n",
      " x[2] ≤ 10\n",
      " x[1] + x[2] ≤ 18\n",
      " 3 x[1] + x[2] ≤ 44\n",
      " x[1] ≥ 0\n",
      " x[2] ≥ 0\n",
      "\n",
      "OPTIMAL\n",
      "z = 28.0\n",
      "x[1] = 10.0\n",
      "x[2] = 8.0\n"
     ]
    }
   ],
   "source": [
    "X = [1, 2]\n",
    "c = [2,1]\n",
    "A = [\n",
    "\t2 5\n",
    "\t0 1\n",
    "\t1 1\n",
    "\t3 1\n",
    "]\n",
    "\n",
    "b = [60, 10, 18, 44]\n",
    "\n",
    "model = Model(HiGHS.Optimizer)\n",
    "\n",
    "@variable(model, x[X] >= 0)\n",
    "\n",
    "@objective(model, Max, sum(c[j]*x[j] for j in X))\n",
    "\n",
    "@constraint(model, sum(A[1, j]x[j] for j in X) >= b[1])\n",
    "@constraint(model, [i in 2:4], sum(A[i, j]x[j] for j in X) <= b[i])\n",
    "\n",
    "println(model)\n",
    "set_silent(model)\n",
    "optimize!(model)\n",
    "\n",
    "println(termination_status(model))\n",
    "println(\"z = \", objective_value(model))\n",
    "for j in X\n",
    "  println(\"x[$j] = \", value(x[j]))\n",
    "end"
   ]
  },
  {
   "cell_type": "markdown",
   "metadata": {},
   "source": [
    "#### 1.(m)"
   ]
  },
  {
   "cell_type": "code",
   "execution_count": 39,
   "metadata": {},
   "outputs": [
    {
     "name": "stdout",
     "output_type": "stream",
     "text": [
      "Min x[1] + x[2]\n",
      "Subject to\n",
      " 2 x[1] + 3 x[2] ≥ 9\n",
      " 4 x[1] + 3 x[2] ≥ 12\n",
      " x[1] ≥ 0\n",
      " x[2] ≥ 0\n",
      "\n",
      "OPTIMAL\n",
      "z = 3.5\n",
      "x[1] = 1.5\n",
      "x[2] = 2.0\n"
     ]
    }
   ],
   "source": [
    "X = [1, 2]\n",
    "\n",
    "c = [1,1]\n",
    "\n",
    "A = [\n",
    "\t2 3\n",
    "\t4 3\n",
    "]\n",
    "\t\n",
    "b = [9, 12]\n",
    "\n",
    "\n",
    "\n",
    "model = Model(HiGHS.Optimizer)\n",
    "\n",
    "@variable(model, x[X] >= 0)\n",
    "\n",
    "@objective(model, Min, sum(c[j]*x[j] for j in X))\n",
    "\n",
    "@constraint(model, [i in X], sum(A[i, j]x[j] for j in X) >= b[i])\n",
    "\n",
    "println(model)\n",
    "set_silent(model)\n",
    "optimize!(model)\n",
    "\n",
    "println(termination_status(model))\n",
    "println(\"z = \", objective_value(model))\n",
    "for j in X\n",
    "  println(\"x[$j] = \", value(x[j]))\n",
    "end"
   ]
  },
  {
   "cell_type": "markdown",
   "metadata": {},
   "source": [
    "#### 1.(n)"
   ]
  },
  {
   "cell_type": "code",
   "execution_count": 40,
   "metadata": {},
   "outputs": [
    {
     "name": "stdout",
     "output_type": "stream",
     "text": [
      "Min 3 x[1] + 2 x[2]\n",
      "Subject to\n",
      " 5 x[1] + x[2] ≥ 10\n",
      " 2 x[1] + 2 x[2] ≥ 12\n",
      " x[1] ≥ 0\n",
      " x[2] ≥ 0\n",
      "\n",
      "OPTIMAL\n",
      "z = 13.0\n",
      "x[1] = 1.0\n",
      "x[2] = 5.0\n"
     ]
    }
   ],
   "source": [
    "X = [1, 2]\n",
    "\n",
    "c = [3,2]\n",
    "\n",
    "A = [\n",
    "\t5 1\n",
    "\t2 2\n",
    "\t1 4\n",
    "]\n",
    "\t\n",
    "b = [10, 12, 12]\n",
    "\n",
    "\n",
    "\n",
    "model = Model(HiGHS.Optimizer)\n",
    "\n",
    "@variable(model, x[X] >= 0)\n",
    "\n",
    "@objective(model, Min, sum(c[j]*x[j] for j in X))\n",
    "\n",
    "@constraint(model, [i in X], sum(A[i, j]x[j] for j in X) >= b[i])\n",
    "\n",
    "println(model)\n",
    "set_silent(model)\n",
    "optimize!(model)\n",
    "\n",
    "println(termination_status(model))\n",
    "println(\"z = \", objective_value(model))\n",
    "for j in X\n",
    "  println(\"x[$j] = \", value(x[j]))\n",
    "end"
   ]
  },
  {
   "cell_type": "markdown",
   "metadata": {},
   "source": [
    "#### 1.(o)"
   ]
  },
  {
   "cell_type": "code",
   "execution_count": 41,
   "metadata": {},
   "outputs": [
    {
     "name": "stdout",
     "output_type": "stream",
     "text": [
      "Min 3 x[1] + 2 x[2]\n",
      "Subject to\n",
      " x[1] ≥ 3\n",
      " x[2] ≥ 2\n",
      " x[1] + x[2] ≥ 6\n",
      " x[1] - x[2] ≤ 3\n",
      " x[1] ≥ 0\n",
      " x[2] ≥ 0\n",
      "\n",
      "OPTIMAL\n",
      "z = 15.0\n",
      "x[1] = 3.0\n",
      "x[2] = 3.0\n"
     ]
    }
   ],
   "source": [
    "X = [1, 2]\n",
    "\n",
    "c = [3,2]\n",
    "\n",
    "A = [\n",
    "\t1 0\n",
    "\t0 1\n",
    "\t1 1\n",
    "\t1 -1\n",
    "]\n",
    "\t\n",
    "b = [3, 2, 6, 3]\n",
    "\n",
    "\n",
    "\n",
    "model = Model(HiGHS.Optimizer)\n",
    "\n",
    "@variable(model, x[X] >= 0)\n",
    "\n",
    "@objective(model, Min, sum(c[j]*x[j] for j in X))\n",
    "\n",
    "@constraint(model, [i in 1:3], sum(A[i, j]x[j] for j in X) >= b[i])\n",
    "@constraint(model, sum(A[4, j]x[j] for j in X) <= b[4])\n",
    "\n",
    "println(model)\n",
    "set_silent(model)\n",
    "optimize!(model)\n",
    "\n",
    "println(termination_status(model))\n",
    "println(\"z = \", objective_value(model))\n",
    "for j in X\n",
    "  println(\"x[$j] = \", value(x[j]))\n",
    "end"
   ]
  },
  {
   "cell_type": "code",
   "execution_count": null,
   "metadata": {},
   "outputs": [],
   "source": []
  }
 ],
 "metadata": {
  "kernelspec": {
   "display_name": "Julia 1.11.4",
   "language": "julia",
   "name": "julia-1.11"
  },
  "language_info": {
   "file_extension": ".jl",
   "mimetype": "application/julia",
   "name": "julia",
   "version": "1.11.4"
  }
 },
 "nbformat": 4,
 "nbformat_minor": 2
}
